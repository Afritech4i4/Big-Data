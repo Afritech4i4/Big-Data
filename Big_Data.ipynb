{
 "cells": [
  {
   "cell_type": "markdown",
   "metadata": {},
   "source": [
    "# Big Data"
   ]
  },
  {
   "cell_type": "markdown",
   "metadata": {},
   "source": [
    "## Python version : 3\n",
    "## Libraries used\n",
    "* <b>Pandas</b>- Used for storing and managing data for better analysis.\n",
    "* <b>Numpy</b> Used for numeric arrangements of data.\n",
    " "
   ]
  },
  {
   "cell_type": "markdown",
   "metadata": {},
   "source": [
    "## Datasets Used\n",
    "\n",
    "* <b>users_table.csv</b> :- Contains data about the users of a social net.\n",
    "  * <b>Surname</b> :- Surname of the user.\n",
    "  * <b>Name</b> :-  Name of the user.\n",
    "  * <b>Age</b> :- Current age of user.\n",
    "  * <b>Subscription Date</b> :- Date when the user subscribed to the social network.\n",
    "* <b>posts_table.csv</b>\n",
    "  * <b>User</b> :- Users who posted.\n",
    "  * <b>Post Type</b> :- Type of posts, eg:-Image, Text and Gif.\n",
    "  * <b>Post Date</b> :- Date recorded when they posted.\n",
    "##\n",
    "* <b>reactions_table.csv</b>\n",
    "  * <b>User</b> :- Users who have reacted to any post.\n",
    "  * <b>Reaction Type</b> :- Type of reaction, eg:-Like, Emoticon and Comment.\n",
    "  * <b>Reaction Date</b> :- Date recorded when the reacted.\n",
    "##\n",
    "* <b>friends_table.csv</b>\n",
    "  * <b>Friend 1</b> :- Friend 1 is field which indicates users who have friends.\n",
    "  * <b>Friend 2</b> :- Friend 2 is a field of users who is friend to Friend 1."
   ]
  },
  {
   "cell_type": "markdown",
   "metadata": {},
   "source": [
    "## Importing necessary libraries"
   ]
  },
  {
   "cell_type": "code",
   "execution_count": 29,
   "metadata": {},
   "outputs": [],
   "source": [
    "#import libraries\n",
    "import pandas as pd\n",
    "import numpy as np"
   ]
  },
  {
   "cell_type": "markdown",
   "metadata": {},
   "source": [
    "## Reading data"
   ]
  },
  {
   "cell_type": "code",
   "execution_count": 33,
   "metadata": {},
   "outputs": [],
   "source": [
    "#Reading data to pandas dataframe\n",
    "user_table = pd.read_csv('user_table.csv')\n",
    "posts_table = pd.read_csv('posts_table.csv')\n",
    "reactions_table = pd.read_csv('reactions_table.csv')\n",
    "friends_table = pd.read_csv('friends_table.csv')"
   ]
  },
  {
   "cell_type": "markdown",
   "metadata": {},
   "source": [
    "# Task 1 :- \n",
    "## What is the most common name in the social network? How many people share it?\n"
   ]
  },
  {
   "cell_type": "markdown",
   "metadata": {},
   "source": [
    "Creating a column which contains FullName of the user will be helpful to find details related to name. Create a column named **FullName** using **Surname** and **Name** in users_table\n"
   ]
  },
  {
   "cell_type": "code",
   "execution_count": 37,
   "metadata": {},
   "outputs": [],
   "source": [
    "# Assigning Full Name to a variable.\n",
    "fullname = user_table['Name']+\" \"+user_table['Surname']\n",
    "# Creating and storing full name to user table.\n",
    "if 'FullName' not in user_table.columns:\n",
    "  user_table.insert(loc=0,column='FullName',value=fullname)"
   ]
  },
  {
   "cell_type": "markdown",
   "metadata": {},
   "source": [
    "### The data after adding FullName will be.."
   ]
  },
  {
   "cell_type": "code",
   "execution_count": 39,
   "metadata": {},
   "outputs": [
    {
     "name": "stdout",
     "output_type": "stream",
     "text": [
      "             FullName      Surname      Name  Age  Subscription Date\n",
      "0         Sarah Smith        Smith     Sarah   30         1588157373\n",
      "1     Francine Picard       Picard  Francine   32         1588161732\n",
      "2           Hans Roth         Roth      Hans   40         1588157337\n",
      "3           Ali Pomme        Pomme       Ali   28         1588165636\n",
      "4      Jordi Di Lillo     Di Lillo     Jordi   42         1588156042\n",
      "5           Anna Roth         Roth      Anna   26         1588162689\n",
      "6          Jordi Kirk         Kirk     Jordi   56         1588153009\n",
      "7   Josie Beierlorzer  Beierlorzer     Josie   20         1588166376\n",
      "8       Robert Picard       Picard    Robert   39         1588158173\n",
      "9      Jean-Luc Meier        Meier  Jean-Luc   37         1588156009\n",
      "10         Josie Kirk         Kirk     Josie   31         1588166811\n",
      "11   Sarah Wellington   Wellington     Sarah   40         1588160408\n"
     ]
    }
   ],
   "source": [
    "print(user_table.head(12))"
   ]
  },
  {
   "cell_type": "markdown",
   "metadata": {},
   "source": [
    "## Listing most common names and its count.\n",
    "\n",
    "* **How many names mentioned in user table?**\n",
    "* **What are the most common names?**"
   ]
  },
  {
   "cell_type": "code",
   "execution_count": 43,
   "metadata": {},
   "outputs": [
    {
     "name": "stdout",
     "output_type": "stream",
     "text": [
      "---------------------------------------------------\n",
      "Total names appeard among Users :-  246\n",
      "----------------------------------------------------\n",
      "Josie Bond              11\n",
      "Thomas Smith            10\n",
      "Thomas Meier            10\n",
      "Sarah Bond              10\n",
      "Timothy Picard          10\n",
      "Simon Mueller            8\n",
      "Sarah Smith              8\n",
      "Franz Mueller            8\n",
      "Jean-Luc Thronton        8\n",
      "Jean-Luc Beierlorzer     8\n",
      "Ali Mueller              8\n",
      "Jordi Kirk               8\n",
      "Lee Smith                7\n",
      "Agaba Bond               7\n",
      "Lee Kirk                 7\n",
      "Name: FullName, dtype: int64\n",
      "----------------------------------------------------\n"
     ]
    }
   ],
   "source": [
    "# Bringing all full name to variable name\n",
    "names = user_table.FullName\n",
    "# Printing number of total names\n",
    "print(\"---------------------------------------------------\")\n",
    "print(\"Total names appeard among Users :- \",len(names.value_counts()))\n",
    "print(\"----------------------------------------------------\")\n",
    "# Printing most mentioned names.\n",
    "print(names.value_counts().head(15))\n",
    "print(\"----------------------------------------------------\")"
   ]
  },
  {
   "cell_type": "markdown",
   "metadata": {},
   "source": [
    "## Which name is shared by most of the users?\n",
    "\n",
    "The most frequent name can be calculated using the **mode** function of pandas. Mode is used to find the most frequent value from a set"
   ]
  },
  {
   "cell_type": "code",
   "execution_count": 48,
   "metadata": {},
   "outputs": [
    {
     "name": "stdout",
     "output_type": "stream",
     "text": [
      "Most common name among users : 0    Josie Bond\n",
      "dtype: object\n"
     ]
    }
   ],
   "source": [
    "# Finding most repeated full name among all users\n",
    "most_frequent_name = user_table.FullName.mode()\n",
    "print(\"Most common name among users :\",most_frequent_name)\n"
   ]
  },
  {
   "cell_type": "markdown",
   "metadata": {},
   "source": [
    "## How many users share the name \"Josie Bond\"?\n",
    "This can be achieved by finding maximum of name count"
   ]
  },
  {
   "cell_type": "code",
   "execution_count": 51,
   "metadata": {},
   "outputs": [
    {
     "name": "stdout",
     "output_type": "stream",
     "text": [
      "Number of users with the name Josie Bond : 11\n"
     ]
    }
   ],
   "source": [
    "# Finding maximum mentioned name's count\n",
    "count = user_table.FullName.value_counts().max()\n",
    "print(\"Number of users with the name Josie Bond :\",count)"
   ]
  },
  {
   "cell_type": "markdown",
   "metadata": {},
   "source": [
    "# Task 2 :- \n",
    "\n",
    "## List five people with most posts and reaction combined"
   ]
  },
  {
   "cell_type": "markdown",
   "metadata": {},
   "source": [
    "#### Steps\n",
    "* Create id column to user table.\n",
    "* Join posts and reactions table.\n",
    "* Calculate count of posts by users.\n",
    "* Calculate count of reactions by users.\n",
    "* Combine both reaction and posts count.\n",
    "* Calculate total count of posts and reactions by users from combined table.\n",
    "* Sort result in descending order.\n",
    "* List the users with most posts and reactions"
   ]
  },
  {
   "cell_type": "code",
   "execution_count": 55,
   "metadata": {},
   "outputs": [],
   "source": [
    "# Create 'User' column to store id. id is calculated using numpy\n",
    "user_id = np.arange(len(user_table))\n",
    "if 'User' not in user_table.columns:\n",
    "  user_table.insert(loc=0,column='User',value=user_id)"
   ]
  },
  {
   "cell_type": "markdown",
   "metadata": {},
   "source": [
    "### User table after adding id will be"
   ]
  },
  {
   "cell_type": "code",
   "execution_count": 56,
   "metadata": {},
   "outputs": [
    {
     "name": "stdout",
     "output_type": "stream",
     "text": [
      "   User           FullName      Surname      Name  Age  Subscription Date\n",
      "0     1        Sarah Smith        Smith     Sarah   30         1588157373\n",
      "1     2    Francine Picard       Picard  Francine   32         1588161732\n",
      "2     3          Hans Roth         Roth      Hans   40         1588157337\n",
      "3     4          Ali Pomme        Pomme       Ali   28         1588165636\n",
      "4     5     Jordi Di Lillo     Di Lillo     Jordi   42         1588156042\n",
      "5     6          Anna Roth         Roth      Anna   26         1588162689\n",
      "6     7         Jordi Kirk         Kirk     Jordi   56         1588153009\n",
      "7     8  Josie Beierlorzer  Beierlorzer     Josie   20         1588166376\n",
      "8     9      Robert Picard       Picard    Robert   39         1588158173\n",
      "9    10     Jean-Luc Meier        Meier  Jean-Luc   37         1588156009\n"
     ]
    }
   ],
   "source": [
    "print(user_table.head(10))"
   ]
  },
  {
   "cell_type": "markdown",
   "metadata": {},
   "source": [
    "### Joining posts table and reactions_table with users table to measure the number of posts and reactions"
   ]
  },
  {
   "cell_type": "code",
   "execution_count": 66,
   "metadata": {},
   "outputs": [],
   "source": [
    "#joining user_table and posts_table as user_posts\n",
    "user_posts = user_table.merge(posts_table,on='User')\n",
    "#joining user_table and reactions_table as user_reactions\n",
    "user_reactions = user_table.merge(reactions_table,on='User')"
   ]
  },
  {
   "cell_type": "markdown",
   "metadata": {},
   "source": [
    "### Grouping each user in 'user_posts' to find total number of posts made by user"
   ]
  },
  {
   "cell_type": "code",
   "execution_count": 72,
   "metadata": {},
   "outputs": [],
   "source": [
    "#Grouping user post table based on User(Id) to count posts by user\n",
    "post_count = user_posts.groupby('User')['Post Type'].agg(['count'])\n",
    "post_count.reset_index(inplace=True)\n",
    "#Rename count with PostCount\n",
    "post_count.rename(columns = {'count':'PostCount'},inplace=True)"
   ]
  },
  {
   "cell_type": "markdown",
   "metadata": {},
   "source": [
    "### Grouping by user in 'user_reactions' to find total number of reactions made by user"
   ]
  },
  {
   "cell_type": "code",
   "execution_count": 75,
   "metadata": {},
   "outputs": [],
   "source": [
    "#Grouping user reactions table based on User(Id) to count reactions by user\n",
    "reaction_count = user_reactions.groupby('User')['Reaction Type'].agg(['count'])\n",
    "reaction_count.reset_index(inplace=True)\n",
    "#Rename count with ReactionCount\n",
    "reaction_count.rename(columns = {'count':'ReactionCount'},inplace=True)"
   ]
  },
  {
   "cell_type": "markdown",
   "metadata": {},
   "source": [
    "### Combine both reaction count and post count"
   ]
  },
  {
   "cell_type": "code",
   "execution_count": 82,
   "metadata": {},
   "outputs": [],
   "source": [
    "# Merging both posts and reactions count\n",
    "combined_count =  pd.merge(post_count,reaction_count,how='left',on='User')\n",
    "# Clearing empt values with 0\n",
    "combined_count = combined_count.fillna(0)\n"
   ]
  },
  {
   "cell_type": "markdown",
   "metadata": {},
   "source": [
    "### Calculate sum of post's counts and reaction's counts of each user"
   ]
  },
  {
   "cell_type": "code",
   "execution_count": 88,
   "metadata": {},
   "outputs": [],
   "source": [
    "combined_count['TotalCount'] = combined_count['PostCount']+combined_count['ReactionCount']"
   ]
  },
  {
   "cell_type": "markdown",
   "metadata": {},
   "source": [
    "## Sort from high to low to find top five users with most posts and reactions combined"
   ]
  },
  {
   "cell_type": "code",
   "execution_count": 94,
   "metadata": {},
   "outputs": [],
   "source": [
    "# Sorting based on TotalCount\n",
    "combined_count = combined_count.sort_values(by = 'TotalCount',ascending=False)\n",
    "# Read only top 5 data\n",
    "top_counted_users = combined_count.head(5)"
   ]
  },
  {
   "cell_type": "code",
   "execution_count": 95,
   "metadata": {},
   "outputs": [
    {
     "name": "stdout",
     "output_type": "stream",
     "text": [
      "     User  PostCount  ReactionCount  TotalCount\n",
      "641   642         24          217.0       241.0\n",
      "663   664         24          130.0       154.0\n",
      "66     67         21          130.0       151.0\n",
      "677   678         20          130.0       150.0\n",
      "652   653          9          139.0       148.0\n"
     ]
    }
   ],
   "source": [
    "print(top_counted_users)"
   ]
  },
  {
   "cell_type": "markdown",
   "metadata": {},
   "source": [
    "### Fetch details of top 5 users with most reactions and posts combined."
   ]
  },
  {
   "cell_type": "code",
   "execution_count": 106,
   "metadata": {},
   "outputs": [],
   "source": [
    "top_counted_users = user_table.merge(top_counted_users[['User','TotalCount']],on='User')\n",
    "top_counted_users = top_counted_users.sort_values(by = 'TotalCount',ascending=False)"
   ]
  },
  {
   "cell_type": "markdown",
   "metadata": {},
   "source": [
    "## Users who have most posts and reactions?"
   ]
  },
  {
   "cell_type": "code",
   "execution_count": 113,
   "metadata": {},
   "outputs": [
    {
     "name": "stdout",
     "output_type": "stream",
     "text": [
      "   User      FullName  Surname     Name  Age  Subscription Date  TotalCount\n",
      "1   642   Ali Mueller  Mueller      Ali    5         1588145188       241.0\n",
      "3   664    Zoe Picard   Picard      Zoe   46         1588160876       154.0\n",
      "0    67  Agaba Gwahsi   Gwahsi    Agaba   51         1588155646       151.0\n",
      "4   678  Andreas Kirk     Kirk  Andreas   28         1588155836       150.0\n",
      "2   653     Alok Kirk     Kirk     Alok   18         1588158745       148.0\n"
     ]
    }
   ],
   "source": [
    "print(top_counted_users)"
   ]
  },
  {
   "cell_type": "markdown",
   "metadata": {},
   "source": [
    "# Task 3\n",
    "## Create a plot of the friend ship graph for all users named \"Jean-Luc Picard\"(upto 2nd degree)"
   ]
  },
  {
   "cell_type": "markdown",
   "metadata": {},
   "source": [
    "### Steps\n",
    "* Fetch all users who named \"Jean-Luc Picard\".\n",
    "* Join 1st and 2nd degree friends of users named \"Jean-Luc Picard\".\n",
    "* Draw a network diagram between each friends."
   ]
  },
  {
   "cell_type": "markdown",
   "metadata": {},
   "source": [
    "## Finding all users named \"Jean-Luc Picard\"."
   ]
  },
  {
   "cell_type": "code",
   "execution_count": 117,
   "metadata": {},
   "outputs": [],
   "source": [
    "# Assign all \"Jean-Luc Picard\" users to variable\n",
    "jlp = user_table[user_table['FullName'].str.lower()=='jean-luc picard']"
   ]
  },
  {
   "cell_type": "markdown",
   "metadata": {},
   "source": [
    "## How many people share the name \"Jean-Luc Picard\"?"
   ]
  },
  {
   "cell_type": "code",
   "execution_count": 119,
   "metadata": {},
   "outputs": [
    {
     "name": "stdout",
     "output_type": "stream",
     "text": [
      "0\n"
     ]
    }
   ],
   "source": [
    "# Finding and printing length of users\n",
    "number_of_users = len(jlp)\n",
    "print(number_of_users)\n"
   ]
  },
  {
   "cell_type": "markdown",
   "metadata": {},
   "source": [
    "## There is no user called \"Jean-Luc Picard\" in the data set. So friendship graph cannot be plotted."
   ]
  }
 ],
 "metadata": {
  "kernelspec": {
   "display_name": "Python 3",
   "language": "python",
   "name": "python3"
  },
  "language_info": {
   "codemirror_mode": {
    "name": "ipython",
    "version": 3
   },
   "file_extension": ".py",
   "mimetype": "text/x-python",
   "name": "python",
   "nbconvert_exporter": "python",
   "pygments_lexer": "ipython3",
   "version": "3.8.5"
  }
 },
 "nbformat": 4,
 "nbformat_minor": 4
}
